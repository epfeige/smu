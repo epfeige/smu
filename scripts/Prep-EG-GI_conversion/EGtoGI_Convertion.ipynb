{
 "cells": [
  {
   "cell_type": "code",
   "execution_count": 27,
   "outputs": [
    {
     "name": "stdout",
     "text": [
      "Empty DataFrame\nColumns: [ID, File number:, Postal Code, Living area (ft2), Living area (m2), Year built, House Type, Stories, Shape, Main Heating Fuel, % diff, heated area (m2), , Space Heating, Total Space heating in MJ, SP Heating/m2, Space Cooling, Total Space cooling in MJ, Water Heating, Total Hot water in MJ, Whole house Ventilation, Total Ventilation in MJ, Lights & appliances, Total Light and appliances in MJ, Other electrical, Total Other electrical in MJ, # of Doors, # of Windows, Heat Pump - Geothermal, Electric Thermal Storage, Heat Pump - Air to air, Heat pump - Air to water, Heat Pump - Mini Split, High Efficient Furnace, High Efficiency Pellet Stove, High Efficient Woodstove or Fireplace, Solar Air Heater, Solar hot water for space heating, HRV, No Primary Efficient System, Total Heating System, Total Air Conditioning, Sunroom, Total Passive Solar Feature, Smart Thermostats, Total Supporting Features, Total Heating & Cooling %, Total Insulation - Attic/Ceiling, Total Insulation - Exterior Walls, Total Insulation - Foundation, Energy Star® Door(s), Total Doors, Energy Star® Windows, Windows Double Pane, Windows Triple pane, Total Windows, Airtightness, Total Air Tightness, Total Building Envelope %, Total Living, Sun Exposure, Total Passive Solar Lighting, Energy Efficienct Light Bulbs, Total Electric Lighting, Total Appliances & Lighting, Water Heater Energy Star®, Instant Hot Water Heater Energy Star®, Total Water Heating, Energy Star® Heat Recovery, General Heat Recovery, Total Heat Recovery, Total Water Heating, Total Energy Efficiency (EE), Solar PV, Wind-turbine, Hydroelectric, Solar Hot Water System, Total Energy Production (Existing), Total Energy Production, Total EE & EP, EnerGuide Rating, Typical similar home average rating, % diff]\nIndex: []\n\n[0 rows x 83 columns]\n"
     ],
     "output_type": "stream"
    },
    {
     "traceback": [
      "\u001B[0;31m---------------------------------------------------------------------------\u001B[0m",
      "\u001B[0;31mValueError\u001B[0m                                Traceback (most recent call last)",
      "\u001B[0;32m<ipython-input-27-4a2363d277bf>\u001B[0m in \u001B[0;36m<module>\u001B[0;34m\u001B[0m\n\u001B[1;32m    162\u001B[0m     gi_df = gi_df.append({\"Date\": date, \"ID\": idnum, \"File number:\": fnum, \"Postal Code\": post,\n\u001B[1;32m    163\u001B[0m                           \u001B[0;34m\"Living area (ft2)\"\u001B[0m\u001B[0;34m:\u001B[0m \u001B[0mfloft2\u001B[0m\u001B[0;34m,\u001B[0m \u001B[0;34m\"Living area (m2)\"\u001B[0m\u001B[0;34m:\u001B[0m \u001B[0mflom2\u001B[0m\u001B[0;34m,\u001B[0m \u001B[0;34m\"Year built\"\u001B[0m\u001B[0;34m:\u001B[0m \u001B[0myear\u001B[0m\u001B[0;34m,\u001B[0m \u001B[0;34m\"Heat Pump - Geothermal\"\u001B[0m\u001B[0;34m:\u001B[0m \u001B[0min_hpgeo\u001B[0m\u001B[0;34m,\u001B[0m\u001B[0;34m\u001B[0m\u001B[0;34m\u001B[0m\u001B[0m\n\u001B[0;32m--> 164\u001B[0;31m                           \"Heat Pump - Air to air\": in_hpair, \"Heat Pump - Mini Split\": in_hpmini}, ignore_index=True)\n\u001B[0m\u001B[1;32m    165\u001B[0m \u001B[0;34m\u001B[0m\u001B[0m\n\u001B[1;32m    166\u001B[0m     \u001B[0;34m\"\"\" For Testing: \"\"\"\u001B[0m\u001B[0;34m\u001B[0m\u001B[0;34m\u001B[0m\u001B[0m\n",
      "\u001B[0;32m/Library/Frameworks/Python.framework/Versions/3.7/lib/python3.7/site-packages/pandas/core/frame.py\u001B[0m in \u001B[0;36mappend\u001B[0;34m(self, other, ignore_index, verify_integrity, sort)\u001B[0m\n\u001B[1;32m   6677\u001B[0m             \u001B[0mother\u001B[0m \u001B[0;34m=\u001B[0m \u001B[0mother\u001B[0m\u001B[0;34m.\u001B[0m\u001B[0m_convert\u001B[0m\u001B[0;34m(\u001B[0m\u001B[0mdatetime\u001B[0m\u001B[0;34m=\u001B[0m\u001B[0;32mTrue\u001B[0m\u001B[0;34m,\u001B[0m \u001B[0mtimedelta\u001B[0m\u001B[0;34m=\u001B[0m\u001B[0;32mTrue\u001B[0m\u001B[0;34m)\u001B[0m\u001B[0;34m\u001B[0m\u001B[0;34m\u001B[0m\u001B[0m\n\u001B[1;32m   6678\u001B[0m             \u001B[0;32mif\u001B[0m \u001B[0;32mnot\u001B[0m \u001B[0mself\u001B[0m\u001B[0;34m.\u001B[0m\u001B[0mcolumns\u001B[0m\u001B[0;34m.\u001B[0m\u001B[0mequals\u001B[0m\u001B[0;34m(\u001B[0m\u001B[0mcombined_columns\u001B[0m\u001B[0;34m)\u001B[0m\u001B[0;34m:\u001B[0m\u001B[0;34m\u001B[0m\u001B[0;34m\u001B[0m\u001B[0m\n\u001B[0;32m-> 6679\u001B[0;31m                 \u001B[0mself\u001B[0m \u001B[0;34m=\u001B[0m \u001B[0mself\u001B[0m\u001B[0;34m.\u001B[0m\u001B[0mreindex\u001B[0m\u001B[0;34m(\u001B[0m\u001B[0mcolumns\u001B[0m\u001B[0;34m=\u001B[0m\u001B[0mcombined_columns\u001B[0m\u001B[0;34m)\u001B[0m\u001B[0;34m\u001B[0m\u001B[0;34m\u001B[0m\u001B[0m\n\u001B[0m\u001B[1;32m   6680\u001B[0m         \u001B[0;32melif\u001B[0m \u001B[0misinstance\u001B[0m\u001B[0;34m(\u001B[0m\u001B[0mother\u001B[0m\u001B[0;34m,\u001B[0m \u001B[0mlist\u001B[0m\u001B[0;34m)\u001B[0m \u001B[0;32mand\u001B[0m \u001B[0;32mnot\u001B[0m \u001B[0misinstance\u001B[0m\u001B[0;34m(\u001B[0m\u001B[0mother\u001B[0m\u001B[0;34m[\u001B[0m\u001B[0;36m0\u001B[0m\u001B[0;34m]\u001B[0m\u001B[0;34m,\u001B[0m \u001B[0mDataFrame\u001B[0m\u001B[0;34m)\u001B[0m\u001B[0;34m:\u001B[0m\u001B[0;34m\u001B[0m\u001B[0;34m\u001B[0m\u001B[0m\n\u001B[1;32m   6681\u001B[0m             \u001B[0mother\u001B[0m \u001B[0;34m=\u001B[0m \u001B[0mDataFrame\u001B[0m\u001B[0;34m(\u001B[0m\u001B[0mother\u001B[0m\u001B[0;34m)\u001B[0m\u001B[0;34m\u001B[0m\u001B[0;34m\u001B[0m\u001B[0m\n",
      "\u001B[0;32m/Library/Frameworks/Python.framework/Versions/3.7/lib/python3.7/site-packages/pandas/util/_decorators.py\u001B[0m in \u001B[0;36mwrapper\u001B[0;34m(*args, **kwargs)\u001B[0m\n\u001B[1;32m    195\u001B[0m         \u001B[0;34m@\u001B[0m\u001B[0mwraps\u001B[0m\u001B[0;34m(\u001B[0m\u001B[0mfunc\u001B[0m\u001B[0;34m)\u001B[0m\u001B[0;34m\u001B[0m\u001B[0;34m\u001B[0m\u001B[0m\n\u001B[1;32m    196\u001B[0m         \u001B[0;32mdef\u001B[0m \u001B[0mwrapper\u001B[0m\u001B[0;34m(\u001B[0m\u001B[0;34m*\u001B[0m\u001B[0margs\u001B[0m\u001B[0;34m,\u001B[0m \u001B[0;34m**\u001B[0m\u001B[0mkwargs\u001B[0m\u001B[0;34m)\u001B[0m\u001B[0;34m:\u001B[0m\u001B[0;34m\u001B[0m\u001B[0;34m\u001B[0m\u001B[0m\n\u001B[0;32m--> 197\u001B[0;31m             \u001B[0;32mreturn\u001B[0m \u001B[0mfunc\u001B[0m\u001B[0;34m(\u001B[0m\u001B[0;34m*\u001B[0m\u001B[0margs\u001B[0m\u001B[0;34m,\u001B[0m \u001B[0;34m**\u001B[0m\u001B[0mkwargs\u001B[0m\u001B[0;34m)\u001B[0m\u001B[0;34m\u001B[0m\u001B[0;34m\u001B[0m\u001B[0m\n\u001B[0m\u001B[1;32m    198\u001B[0m \u001B[0;34m\u001B[0m\u001B[0m\n\u001B[1;32m    199\u001B[0m         \u001B[0;32mif\u001B[0m \u001B[0;32mnot\u001B[0m \u001B[0mPY2\u001B[0m\u001B[0;34m:\u001B[0m\u001B[0;34m\u001B[0m\u001B[0;34m\u001B[0m\u001B[0m\n",
      "\u001B[0;32m/Library/Frameworks/Python.framework/Versions/3.7/lib/python3.7/site-packages/pandas/core/frame.py\u001B[0m in \u001B[0;36mreindex\u001B[0;34m(self, *args, **kwargs)\u001B[0m\n\u001B[1;32m   3807\u001B[0m         \u001B[0mkwargs\u001B[0m\u001B[0;34m.\u001B[0m\u001B[0mpop\u001B[0m\u001B[0;34m(\u001B[0m\u001B[0;34m'axis'\u001B[0m\u001B[0;34m,\u001B[0m \u001B[0;32mNone\u001B[0m\u001B[0;34m)\u001B[0m\u001B[0;34m\u001B[0m\u001B[0;34m\u001B[0m\u001B[0m\n\u001B[1;32m   3808\u001B[0m         \u001B[0mkwargs\u001B[0m\u001B[0;34m.\u001B[0m\u001B[0mpop\u001B[0m\u001B[0;34m(\u001B[0m\u001B[0;34m'labels'\u001B[0m\u001B[0;34m,\u001B[0m \u001B[0;32mNone\u001B[0m\u001B[0;34m)\u001B[0m\u001B[0;34m\u001B[0m\u001B[0;34m\u001B[0m\u001B[0m\n\u001B[0;32m-> 3809\u001B[0;31m         \u001B[0;32mreturn\u001B[0m \u001B[0msuper\u001B[0m\u001B[0;34m(\u001B[0m\u001B[0mDataFrame\u001B[0m\u001B[0;34m,\u001B[0m \u001B[0mself\u001B[0m\u001B[0;34m)\u001B[0m\u001B[0;34m.\u001B[0m\u001B[0mreindex\u001B[0m\u001B[0;34m(\u001B[0m\u001B[0;34m**\u001B[0m\u001B[0mkwargs\u001B[0m\u001B[0;34m)\u001B[0m\u001B[0;34m\u001B[0m\u001B[0;34m\u001B[0m\u001B[0m\n\u001B[0m\u001B[1;32m   3810\u001B[0m \u001B[0;34m\u001B[0m\u001B[0m\n\u001B[1;32m   3811\u001B[0m     \u001B[0;34m@\u001B[0m\u001B[0mAppender\u001B[0m\u001B[0;34m(\u001B[0m\u001B[0m_shared_docs\u001B[0m\u001B[0;34m[\u001B[0m\u001B[0;34m'reindex_axis'\u001B[0m\u001B[0;34m]\u001B[0m \u001B[0;34m%\u001B[0m \u001B[0m_shared_doc_kwargs\u001B[0m\u001B[0;34m)\u001B[0m\u001B[0;34m\u001B[0m\u001B[0;34m\u001B[0m\u001B[0m\n",
      "\u001B[0;32m/Library/Frameworks/Python.framework/Versions/3.7/lib/python3.7/site-packages/pandas/core/generic.py\u001B[0m in \u001B[0;36mreindex\u001B[0;34m(self, *args, **kwargs)\u001B[0m\n\u001B[1;32m   4354\u001B[0m         \u001B[0;31m# perform the reindex on the axes\u001B[0m\u001B[0;34m\u001B[0m\u001B[0;34m\u001B[0m\u001B[0;34m\u001B[0m\u001B[0m\n\u001B[1;32m   4355\u001B[0m         return self._reindex_axes(axes, level, limit, tolerance, method,\n\u001B[0;32m-> 4356\u001B[0;31m                                   fill_value, copy).__finalize__(self)\n\u001B[0m\u001B[1;32m   4357\u001B[0m \u001B[0;34m\u001B[0m\u001B[0m\n\u001B[1;32m   4358\u001B[0m     def _reindex_axes(self, axes, level, limit, tolerance, method, fill_value,\n",
      "\u001B[0;32m/Library/Frameworks/Python.framework/Versions/3.7/lib/python3.7/site-packages/pandas/core/frame.py\u001B[0m in \u001B[0;36m_reindex_axes\u001B[0;34m(self, axes, level, limit, tolerance, method, fill_value, copy)\u001B[0m\n\u001B[1;32m   3734\u001B[0m         \u001B[0;32mif\u001B[0m \u001B[0mcolumns\u001B[0m \u001B[0;32mis\u001B[0m \u001B[0;32mnot\u001B[0m \u001B[0;32mNone\u001B[0m\u001B[0;34m:\u001B[0m\u001B[0;34m\u001B[0m\u001B[0;34m\u001B[0m\u001B[0m\n\u001B[1;32m   3735\u001B[0m             frame = frame._reindex_columns(columns, method, copy, level,\n\u001B[0;32m-> 3736\u001B[0;31m                                            fill_value, limit, tolerance)\n\u001B[0m\u001B[1;32m   3737\u001B[0m \u001B[0;34m\u001B[0m\u001B[0m\n\u001B[1;32m   3738\u001B[0m         \u001B[0mindex\u001B[0m \u001B[0;34m=\u001B[0m \u001B[0maxes\u001B[0m\u001B[0;34m[\u001B[0m\u001B[0;34m'index'\u001B[0m\u001B[0;34m]\u001B[0m\u001B[0;34m\u001B[0m\u001B[0;34m\u001B[0m\u001B[0m\n",
      "\u001B[0;32m/Library/Frameworks/Python.framework/Versions/3.7/lib/python3.7/site-packages/pandas/core/frame.py\u001B[0m in \u001B[0;36m_reindex_columns\u001B[0;34m(self, new_columns, method, copy, level, fill_value, limit, tolerance)\u001B[0m\n\u001B[1;32m   3759\u001B[0m         return self._reindex_with_indexers({1: [new_columns, indexer]},\n\u001B[1;32m   3760\u001B[0m                                            \u001B[0mcopy\u001B[0m\u001B[0;34m=\u001B[0m\u001B[0mcopy\u001B[0m\u001B[0;34m,\u001B[0m \u001B[0mfill_value\u001B[0m\u001B[0;34m=\u001B[0m\u001B[0mfill_value\u001B[0m\u001B[0;34m,\u001B[0m\u001B[0;34m\u001B[0m\u001B[0;34m\u001B[0m\u001B[0m\n\u001B[0;32m-> 3761\u001B[0;31m                                            allow_dups=False)\n\u001B[0m\u001B[1;32m   3762\u001B[0m \u001B[0;34m\u001B[0m\u001B[0m\n\u001B[1;32m   3763\u001B[0m     \u001B[0;32mdef\u001B[0m \u001B[0m_reindex_multi\u001B[0m\u001B[0;34m(\u001B[0m\u001B[0mself\u001B[0m\u001B[0;34m,\u001B[0m \u001B[0maxes\u001B[0m\u001B[0;34m,\u001B[0m \u001B[0mcopy\u001B[0m\u001B[0;34m,\u001B[0m \u001B[0mfill_value\u001B[0m\u001B[0;34m)\u001B[0m\u001B[0;34m:\u001B[0m\u001B[0;34m\u001B[0m\u001B[0;34m\u001B[0m\u001B[0m\n",
      "\u001B[0;32m/Library/Frameworks/Python.framework/Versions/3.7/lib/python3.7/site-packages/pandas/core/generic.py\u001B[0m in \u001B[0;36m_reindex_with_indexers\u001B[0;34m(self, reindexers, fill_value, copy, allow_dups)\u001B[0m\n\u001B[1;32m   4488\u001B[0m                                                 \u001B[0mfill_value\u001B[0m\u001B[0;34m=\u001B[0m\u001B[0mfill_value\u001B[0m\u001B[0;34m,\u001B[0m\u001B[0;34m\u001B[0m\u001B[0;34m\u001B[0m\u001B[0m\n\u001B[1;32m   4489\u001B[0m                                                 \u001B[0mallow_dups\u001B[0m\u001B[0;34m=\u001B[0m\u001B[0mallow_dups\u001B[0m\u001B[0;34m,\u001B[0m\u001B[0;34m\u001B[0m\u001B[0;34m\u001B[0m\u001B[0m\n\u001B[0;32m-> 4490\u001B[0;31m                                                 copy=copy)\n\u001B[0m\u001B[1;32m   4491\u001B[0m \u001B[0;34m\u001B[0m\u001B[0m\n\u001B[1;32m   4492\u001B[0m         \u001B[0;32mif\u001B[0m \u001B[0mcopy\u001B[0m \u001B[0;32mand\u001B[0m \u001B[0mnew_data\u001B[0m \u001B[0;32mis\u001B[0m \u001B[0mself\u001B[0m\u001B[0;34m.\u001B[0m\u001B[0m_data\u001B[0m\u001B[0;34m:\u001B[0m\u001B[0;34m\u001B[0m\u001B[0;34m\u001B[0m\u001B[0m\n",
      "\u001B[0;32m/Library/Frameworks/Python.framework/Versions/3.7/lib/python3.7/site-packages/pandas/core/internals/managers.py\u001B[0m in \u001B[0;36mreindex_indexer\u001B[0;34m(self, new_axis, indexer, axis, fill_value, allow_dups, copy)\u001B[0m\n\u001B[1;32m   1222\u001B[0m         \u001B[0;31m# some axes don't allow reindexing with dups\u001B[0m\u001B[0;34m\u001B[0m\u001B[0;34m\u001B[0m\u001B[0;34m\u001B[0m\u001B[0m\n\u001B[1;32m   1223\u001B[0m         \u001B[0;32mif\u001B[0m \u001B[0;32mnot\u001B[0m \u001B[0mallow_dups\u001B[0m\u001B[0;34m:\u001B[0m\u001B[0;34m\u001B[0m\u001B[0;34m\u001B[0m\u001B[0m\n\u001B[0;32m-> 1224\u001B[0;31m             \u001B[0mself\u001B[0m\u001B[0;34m.\u001B[0m\u001B[0maxes\u001B[0m\u001B[0;34m[\u001B[0m\u001B[0maxis\u001B[0m\u001B[0;34m]\u001B[0m\u001B[0;34m.\u001B[0m\u001B[0m_can_reindex\u001B[0m\u001B[0;34m(\u001B[0m\u001B[0mindexer\u001B[0m\u001B[0;34m)\u001B[0m\u001B[0;34m\u001B[0m\u001B[0;34m\u001B[0m\u001B[0m\n\u001B[0m\u001B[1;32m   1225\u001B[0m \u001B[0;34m\u001B[0m\u001B[0m\n\u001B[1;32m   1226\u001B[0m         \u001B[0;32mif\u001B[0m \u001B[0maxis\u001B[0m \u001B[0;34m>=\u001B[0m \u001B[0mself\u001B[0m\u001B[0;34m.\u001B[0m\u001B[0mndim\u001B[0m\u001B[0;34m:\u001B[0m\u001B[0;34m\u001B[0m\u001B[0;34m\u001B[0m\u001B[0m\n",
      "\u001B[0;32m/Library/Frameworks/Python.framework/Versions/3.7/lib/python3.7/site-packages/pandas/core/indexes/base.py\u001B[0m in \u001B[0;36m_can_reindex\u001B[0;34m(self, indexer)\u001B[0m\n\u001B[1;32m   3084\u001B[0m         \u001B[0;31m# trying to reindex on an axis with duplicates\u001B[0m\u001B[0;34m\u001B[0m\u001B[0;34m\u001B[0m\u001B[0;34m\u001B[0m\u001B[0m\n\u001B[1;32m   3085\u001B[0m         \u001B[0;32mif\u001B[0m \u001B[0;32mnot\u001B[0m \u001B[0mself\u001B[0m\u001B[0;34m.\u001B[0m\u001B[0mis_unique\u001B[0m \u001B[0;32mand\u001B[0m \u001B[0mlen\u001B[0m\u001B[0;34m(\u001B[0m\u001B[0mindexer\u001B[0m\u001B[0;34m)\u001B[0m\u001B[0;34m:\u001B[0m\u001B[0;34m\u001B[0m\u001B[0;34m\u001B[0m\u001B[0m\n\u001B[0;32m-> 3086\u001B[0;31m             \u001B[0;32mraise\u001B[0m \u001B[0mValueError\u001B[0m\u001B[0;34m(\u001B[0m\u001B[0;34m\"cannot reindex from a duplicate axis\"\u001B[0m\u001B[0;34m)\u001B[0m\u001B[0;34m\u001B[0m\u001B[0;34m\u001B[0m\u001B[0m\n\u001B[0m\u001B[1;32m   3087\u001B[0m \u001B[0;34m\u001B[0m\u001B[0m\n\u001B[1;32m   3088\u001B[0m     def reindex(self, target, method=None, level=None, limit=None,\n",
      "\u001B[0;31mValueError\u001B[0m: cannot reindex from a duplicate axis"
     ],
     "ename": "ValueError",
     "evalue": "cannot reindex from a duplicate axis",
     "output_type": "error"
    }
   ],
   "source": [
    "import EG_to_GI_functions as EGtoGI\n",
    "\n",
    "\"\"\"This file is to import the data from the NRCan file, run the required EnerGuide attributes through the \n",
    "appropriate functions to get the equivalent GreenIndex (GI) value that simulates input from the agent.  \"\"\"\n",
    "# ToDo: also consider the conversion itno points and totals in here\n",
    "\n",
    "# ----------------------- Get data -----------------------\n",
    "\n",
    "dir_path_in = \"\"\n",
    "fname_in = dir_path_in + \"Test-data-V1.csv\"\n",
    "\n",
    "eg_df = EGtoGI.get_data(fname_in)\n",
    "\n",
    "# ----------------------- Create GI dataframe -----------------------\n",
    "\n",
    "gi_df = EGtoGI.create_GI_dataframe()\n",
    "print(gi_df)\n",
    "\n",
    "# ----------------------- Convert and write data -----------------------\n",
    "\n",
    "for row in eg_df.itertuples():\n",
    "    index = row.Index\n",
    "    # ----------------------- Converting Heat Pump Values -----------------------\n",
    "\n",
    "    # ToDo: Get values needed for Heat Pumps\n",
    "    # EnerGuide values to be read from data (current values are for testing):\n",
    "    actype = str(eg_df['AIRCONDTYPE'][index])  # \"Conventional A/C\"  # str value from ACTYPE (\"Conventional A/C\", \"Mini-split ductless\")\n",
    "    hpsource = str(eg_df['HPSOURCE'][index])  # str value of HPSOURCE\n",
    "    furnacefuel = str(eg_df['FURNACEFUEL'][index])  # str value of FURNACEFUEL\n",
    "    supphtgfuel1 = str(eg_df['SUPPHTGFUEL1'][index])  # str value of SUPPHTGFUEL1\n",
    "    supphgttype1 = str(eg_df['SUPPHTGTYPE1'][index])  # str value of SUPPHTGTYPE1\n",
    "    heatenm2 = eg_df['EGHSPACEENERGY / m2'][index]  # float of EGHSPACEENERGY / m2\n",
    "    eghspaceenergy = eg_df['EGHSPACEENERGY'][index]  # float of EGHSPACEENERGY (Total space heating energy)\n",
    "    eghheatfconse = eg_df['EGHHEATFCONSE'][index]  # float of EGHHEATFCONSE (Space energy electric)\n",
    "\n",
    "    if hpsource != \"N/A {no Heat Pump}\":\n",
    "        if actype == \"Mini-split ductless\":\n",
    "            # GI 'agent input' into Heat Pump - Mini Split\n",
    "            in_hpmini = EGtoGI.hp_mini(actype, hpsource, furnacefuel, supphtgfuel1, supphgttype1, heatenm2)\n",
    "        elif actype == \"Conventional A/C\":\n",
    "            in_hpmini = 0\n",
    "            if hpsource == \"Air\":\n",
    "                # GI 'agent input' into Heat Pump - Air to air (Central system)\n",
    "                in_hpair = EGtoGI.hp_geo_air(actype, hpsource, furnacefuel, eghheatfconse, eghspaceenergy)\n",
    "                in_hpgeo = 0\n",
    "            elif hpsource == \"Ground\" or hpsource == \"Water\":\n",
    "                # GI 'agent input' into Heat Pump - Geothermal\n",
    "                in_hpgeo = EGtoGI.hp_geo_air(actype, hpsource, furnacefuel, eghheatfconse, eghspaceenergy)\n",
    "                in_hpair = 0\n",
    "    else:\n",
    "        in_hpmini = in_hpair = in_hpgeo = 0\n",
    "\n",
    "\n",
    "\n",
    "    # ----------------------- Converting Insulation Values -----------------------\n",
    "\n",
    "    # ToDo: Get values needed for Insulation\n",
    "    # EnerGuide values to be read from data (current values are for testing):\n",
    "    ceilins = eg_df['CEILINS'][index]\n",
    "    mainins = eg_df['MAINWALLINS'][index]  # float value from MAINWALLINS\n",
    "    foundins = eg_df['FNDWALLINS'][index]  # float value from FNDWALLINS\n",
    "\n",
    "    # Arrays of conversion values [EG value, GI input value]\n",
    "    attic_args = [[0.38, -0.1], [2.60, 0.1], [4.60, 0.25], [8.00, 0.5], [9.00, 0.85]]  # attic conversion\n",
    "    mainf_args = [[0.33, -0.1], [0.34, 0.1], [1.50, 0.25], [3.00, 0.5], [4.30, 0.80]]  # Main walls and foundation conv.\n",
    "\n",
    "    # GI 'agent input' into Total Insulation - Attic/Ceiling\n",
    "    in_insatt = EGtoGI.insulation(ceilins, *attic_args)\n",
    "\n",
    "    # GI 'agent input' into Total Insulation - Exterior Walls\n",
    "    in_insmain = EGtoGI.insulation(mainins, *mainf_args)\n",
    "\n",
    "    # GI 'agent input' into Total Insulation - Foundation\n",
    "    in_insfound = EGtoGI.insulation(foundins, *mainf_args)\n",
    "\n",
    "    # ----------------------- Converting High Efficient Woodstove or Fireplace Values -----------------------\n",
    "\n",
    "    # ToDo: Get values needed for SUPPHTGTYPE1 & SUPPHTGFUEL1\n",
    "    # EnerGuide values to be read from data (current values are for testing):\n",
    "    # str value from SUPPHTGTYPE1 and SUPPHTGFUEL1 - (see Heat Pump section)\n",
    "\n",
    "    # *** Supplementary Heating Type 1 - High Efficiency Types Only ***\n",
    "    supptype_args = [[\"Advanced airtight wood stove\", 1], [\"Fireplace with pilot (sealed)\", 0.7],\n",
    "                     [\"Fireplace with spark ignit. (sealed)\", 0.7], [\"Wood fireplace insert\", 0.7],\n",
    "                     [\"Wood furnace\", 0.2], [\"Wood fireplace\", 0.2]]  # High Efficient Woodstove or Fireplace conversion\n",
    "    suppfuel_args = [[\"Wood Pellets\", 1]]\n",
    "\n",
    "    # GI 'agent input' into High Efficient Woodstove or Fireplace (High effic. = 1, Efficient = 0.7, General = 0.2)\n",
    "    in_he_ws_fp = EGtoGI.he_fp_ws(supphgttype1, *supptype_args)\n",
    "\n",
    "    # GI 'agent input' into High Efficiency Pellet Stove\n",
    "    in_he_pellet = EGtoGI.he_fp_ws(supphtgfuel1, *suppfuel_args)\n",
    "\n",
    "    # ----------------------- Defining if Furnace type is efficient (High Efficient Furnace) -----------------------\n",
    "    # ToDo: Get values needed for ...\n",
    "    # EnerGuide values to be read from data (current values are for testing):\n",
    "\n",
    "\n",
    "    # GI 'agent input' into 'High Efficient Furnace'\n",
    "    # in_furntype =\n",
    "\n",
    "    # ----------------------- Defining if Heating System is efficient or not (from several EnerGuide attributes) ------\n",
    "\n",
    "    # ToDo: Get values needed for ...\n",
    "    # EnerGuide values to be read from data (current values are for testing):\n",
    "    # str from FURNACETYPE\n",
    "    # float from EGHSPACEENERGY / m2\n",
    "    # str from FURNACEFUEL\n",
    "    # Heat Pump? and how much is it used? (If 1 - then EE system)\n",
    "\n",
    "    # GI 'agent input' into 'No Primary Efficient System'\n",
    "    # in_ee_system = EGtoGI\n",
    "\n",
    "    # ----------------------- Converting ... Values -----------------------\n",
    "\n",
    "    # ToDo: Get values needed for ...\n",
    "    # EnerGuide values to be read from data (current values are for testing):\n",
    "\n",
    "\n",
    "    # GI 'agent input' into\n",
    "\n",
    "\n",
    "    # -- Converting ... Values --\n",
    "\n",
    "    # ToDo: Get values needed for ...\n",
    "    # EnerGuide values to be read from data (current values are for testing):\n",
    "\n",
    "\n",
    "    # GI 'agent input' into\n",
    "\n",
    "    # ----------------------- Converting ... Values -----------------------\n",
    "\n",
    "    # ToDo: Get values needed for ...\n",
    "    # EnerGuide values to be read from data (current values are for testing):\n",
    "\n",
    "\n",
    "    # GI 'agent input' into\n",
    "\n",
    "\n",
    "    # ----------------------- Direct Conversions -----------------------\n",
    "    date = eg_df['CREATIONDATE'][index]  # CREATIONDATE to Date\n",
    "    idnum = eg_df['IDNUMBER'][index]  # IDNUMBER to ID\n",
    "    fnum = eg_df['EVAL_ID'][index]  # EVAL_ID to File number:\n",
    "    post = eg_df['POSTALCODE'][index]  # POSTALCODE to Postal Code\n",
    "    flom2 = eg_df['FLOORAREA'][index]  # FLOORAREA to Living area (m2)\n",
    "    floft2 = flom2*10.7639  # FLOORAREA to Living area (ft2)\n",
    "\n",
    "\n",
    "    year = eg_df['YEARBUILT'][index]  # YEARBUILT to Year built\n",
    "\n",
    "    # NUMWINDOWS to # of Windows\n",
    "    # NUMDOORS to # of Doors\n",
    "    # HEATEDFLOORAREA to heated area (m2) # ToDo: find correct GI attribute or convert to m2\n",
    "    # FLOORAREA to Living area (m2) # ToDo: find correct GI attribute or convert to m2\n",
    "\n",
    "    # ToDo get Group totals\n",
    "\n",
    "\n",
    "    # ToDo get Energy Efficiency & Energy Production Totals\n",
    "\n",
    "    # ----------------------- add to data GI DataFrame -----------------------\n",
    "    gi_df = gi_df.append({\"Date\": date, \"ID\": idnum, \"File number:\": fnum, \"Postal Code\": post,\n",
    "                          \"Living area (ft2)\": floft2, \"Living area (m2)\": flom2, \"Year built\": year, \"Heat Pump - Geothermal\": in_hpgeo,\n",
    "                          \"Heat Pump - Air to air\": in_hpair, \"Heat Pump - Mini Split\": in_hpmini}, ignore_index=True)\n",
    "\n",
    "    \"\"\" For Testing: \"\"\"\n",
    "    # print(\"------ \" + str(index))\n",
    "    print(\"Mini = \" + str(in_hpmini))\n",
    "    print(\"HP_Geo_Geo = \" + str(in_hpgeo))\n",
    "    print(\"HP_Geo_Air = \" + str(in_hpair))\n",
    "    # print(\"Attic = \" + str(in_insatt))\n",
    "    # print(\"Main Walls = \" + str(in_insmain))\n",
    "    # print(\"Foundation = \" + str(in_insfound))\n",
    "    # print(\"HE Fireplace = \" + str(in_he_ws_fp))\n",
    "    # print(\"HE Pellet = \" + str(in_he_pellet))\n",
    "    # print(\" = \" + str())\n",
    "    \n",
    "# ----------------------- Write DataFrame to CSV file -----------------------\n",
    "gi_df.to_csv(r'Test_GI_file.csv')"
   ],
   "metadata": {
    "pycharm": {
     "metadata": false,
     "is_executing": false
    }
   }
  },
  {
   "cell_type": "code",
   "execution_count": 25,
   "outputs": [
    {
     "data": {
      "text/plain": "Empty DataFrame\nColumns: [ID, File number:, Postal Code, Living area (ft2), Living area (m2), Year built, House Type, Stories, Shape, Main Heating Fuel, % diff, heated area (m2), , Space Heating, Total Space heating in MJ, SP Heating/m2, Space Cooling, Total Space cooling in MJ, Water Heating, Total Hot water in MJ, Whole house Ventilation, Total Ventilation in MJ, Lights & appliances, Total Light and appliances in MJ, Other electrical, Total Other electrical in MJ, # of Doors, # of Windows, Heat Pump - Geothermal, Electric Thermal Storage, Heat Pump - Air to air, Heat pump - Air to water, Heat Pump - Mini Split, High Efficient Furnace, High Efficiency Pellet Stove, High Efficient Woodstove or Fireplace, Solar Air Heater, Solar hot water for space heating, HRV, No Primary Efficient System, Total Heating System, Total Air Conditioning, Sunroom, Total Passive Solar Feature, Smart Thermostats, Total Supporting Features, Total Heating & Cooling %, Total Insulation - Attic/Ceiling, Total Insulation - Exterior Walls, Total Insulation - Foundation, Energy Star® Door(s), Total Doors, Energy Star® Windows, Windows Double Pane, Windows Triple pane, Total Windows, Airtightness, Total Air Tightness, Total Building Envelope %, Total Living, Sun Exposure, Total Passive Solar Lighting, Energy Efficienct Light Bulbs, Total Electric Lighting, Total Appliances & Lighting, Water Heater Energy Star®, Instant Hot Water Heater Energy Star®, Total Water Heating, Energy Star® Heat Recovery, General Heat Recovery, Total Heat Recovery, Total Water Heating, Total Energy Efficiency (EE), Solar PV, Wind-turbine, Hydroelectric, Solar Hot Water System, Total Energy Production (Existing), Total Energy Production, Total EE & EP, EnerGuide Rating, Typical similar home average rating, % diff]\nIndex: []\n\n[0 rows x 83 columns]",
      "text/html": "<div>\n<style scoped>\n    .dataframe tbody tr th:only-of-type {\n        vertical-align: middle;\n    }\n\n    .dataframe tbody tr th {\n        vertical-align: top;\n    }\n\n    .dataframe thead th {\n        text-align: right;\n    }\n</style>\n<table border=\"1\" class=\"dataframe\">\n  <thead>\n    <tr style=\"text-align: right;\">\n      <th></th>\n      <th>ID</th>\n      <th>File number:</th>\n      <th>Postal Code</th>\n      <th>Living area (ft2)</th>\n      <th>Living area (m2)</th>\n      <th>Year built</th>\n      <th>House Type</th>\n      <th>Stories</th>\n      <th>Shape</th>\n      <th>Main Heating Fuel</th>\n      <th>...</th>\n      <th>Solar PV</th>\n      <th>Wind-turbine</th>\n      <th>Hydroelectric</th>\n      <th>Solar Hot Water System</th>\n      <th>Total Energy Production (Existing)</th>\n      <th>Total Energy Production</th>\n      <th>Total EE &amp; EP</th>\n      <th>EnerGuide Rating</th>\n      <th>Typical similar home average rating</th>\n      <th>% diff</th>\n    </tr>\n  </thead>\n  <tbody>\n  </tbody>\n</table>\n<p>0 rows × 83 columns</p>\n</div>"
     },
     "metadata": {},
     "output_type": "execute_result",
     "execution_count": 25
    }
   ],
   "source": [
    "gi_df"
   ],
   "metadata": {
    "pycharm": {
     "metadata": false,
     "is_executing": false
    }
   }
  },
  {
   "cell_type": "code",
   "execution_count": null,
   "outputs": [],
   "source": [
    "\n"
   ],
   "metadata": {
    "pycharm": {
     "metadata": false
    }
   }
  }
 ],
 "metadata": {
  "language_info": {
   "codemirror_mode": {
    "name": "ipython",
    "version": 2
   },
   "file_extension": ".py",
   "mimetype": "text/x-python",
   "name": "python",
   "nbconvert_exporter": "python",
   "pygments_lexer": "ipython2",
   "version": "2.7.6"
  },
  "kernelspec": {
   "name": "python3",
   "language": "python",
   "display_name": "Python 3"
  },
  "stem_cell": {
   "cell_type": "raw",
   "source": "",
   "metadata": {
    "pycharm": {
     "metadata": false
    }
   }
  }
 },
 "nbformat": 4,
 "nbformat_minor": 0
}
